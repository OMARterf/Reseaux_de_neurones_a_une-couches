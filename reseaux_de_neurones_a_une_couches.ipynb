{
 "cells": [
  {
   "cell_type": "markdown",
   "id": "d4db8542",
   "metadata": {},
   "source": [
    "# Reseaux de neurones simples a une couches"
   ]
  },
  {
   "cell_type": "code",
   "execution_count": 3,
   "id": "a0a5c793",
   "metadata": {},
   "outputs": [],
   "source": [
    "import numpy as np"
   ]
  },
  {
   "cell_type": "code",
   "execution_count": 4,
   "id": "687cb34b",
   "metadata": {},
   "outputs": [],
   "source": [
    "def initialisation(n0,n1,n2):\n",
    "    W1 = np.random.randn(n1,n0)\n",
    "    b1 = np.random.randn(n1,1)\n",
    "\n",
    "    W2 = np.random.randn(n2,n1)\n",
    "    b2 = np.random.randn(n2,1)\n",
    "\n",
    "    parameteres={\n",
    "        'W1':W1,\n",
    "        'b1':b1,\n",
    "        'W2':W2,\n",
    "        'b2':b2\n",
    "    }\n",
    "    return parameteres"
   ]
  },
  {
   "cell_type": "code",
   "execution_count": 5,
   "id": "770fe200",
   "metadata": {},
   "outputs": [],
   "source": [
    "def froward_propagation(parametres,X):\n",
    "\n",
    "    W1 = parametres['W1']\n",
    "    b1 = parametres['b1']\n",
    "\n",
    "    W2 = parametres['W2']\n",
    "    b2 = parametres['b2']\n",
    "\n",
    "    Z1 = W1.dot(X)+b1\n",
    "    A1 = 1/(1+np.exp(-Z1))\n",
    "\n",
    "    Z2 = W2.dot(A1)+b2\n",
    "    A2 = 1/(1+np.exp(-Z2))\n",
    "\n",
    "    activations={\n",
    "        'A1' : A1,\n",
    "        'A2' : A2\n",
    "    }\n",
    "\n",
    "    return activations"
   ]
  },
  {
   "cell_type": "code",
   "execution_count": 6,
   "id": "05b8b437",
   "metadata": {},
   "outputs": [],
   "source": [
    "def backward_propagation(parametres,X,activations,y):\n",
    "    A1 = activations['A1']\n",
    "    A2 = activations['A2']\n",
    "\n",
    "    W1 = parametres['W1']\n",
    "    b1 = parametres['b1']\n",
    "\n",
    "    W2 = parametres['W2']\n",
    "    b2 = parametres['b2']\n",
    "\n",
    "    m = y.shape[1]\n",
    "\n",
    "    dZ2 = (A2-y)\n",
    "    dW2 = (1/m)*dZ2.dot(A1.T)\n",
    "    db2 = (1/m)*np.sum(dZ2, axis = 1,keepdims =True)\n",
    "    dZ1 = np.dot(W2.T,dZ2)*A1*(1-A1)\n",
    "    dW1 = (1/m)*dZ1.dot(X.T)\n",
    "    db1 = (1/m)*np.sum(dZ1,axis = 1,keepdims =True)\n",
    "\n",
    "    gradients = {\n",
    "        \"dW1\" : dW1,\n",
    "        \"dW2\" : dW2,\n",
    "        \"db1\" : db1,\n",
    "        \"db2\" : db2\n",
    "    }\n",
    "\n",
    "    return gradients\n",
    "    \n",
    "\n",
    "\n",
    "\n"
   ]
  },
  {
   "cell_type": "code",
   "execution_count": 7,
   "id": "2fd8d56e",
   "metadata": {},
   "outputs": [],
   "source": [
    "def update(gradients,parametres,learning_rate):\n",
    "    \n",
    "    W1 = parametres['W1']\n",
    "    dW1 = gradients['dW1']\n",
    "    b1 = parametres['b1']\n",
    "    db1 = gradients['db1']\n",
    "\n",
    "    W2 = parametres['W2']\n",
    "    dW2 = gradients['dW2']\n",
    "    b2 = parametres['b2']\n",
    "    db2 = gradients['db2']\n",
    "\n",
    "    W1 = W1 - learning_rate*dW1\n",
    "    W2 = W2 - learning_rate*dW2\n",
    "\n",
    "    b1 = b1 - learning_rate*db1\n",
    "    b2 = b2 - learning_rate*db2\n",
    "\n",
    "    parameteres={\n",
    "        'W1':W1,\n",
    "        'b1':b1,\n",
    "        'W2':W2,\n",
    "        'b2':b2\n",
    "    }\n",
    "    return parameteres"
   ]
  },
  {
   "cell_type": "code",
   "execution_count": null,
   "id": "59e5f147",
   "metadata": {},
   "outputs": [],
   "source": []
  }
 ],
 "metadata": {
  "kernelspec": {
   "display_name": "Python 3",
   "language": "python",
   "name": "python3"
  },
  "language_info": {
   "codemirror_mode": {
    "name": "ipython",
    "version": 3
   },
   "file_extension": ".py",
   "mimetype": "text/x-python",
   "name": "python",
   "nbconvert_exporter": "python",
   "pygments_lexer": "ipython3",
   "version": "3.12.4"
  }
 },
 "nbformat": 4,
 "nbformat_minor": 5
}
